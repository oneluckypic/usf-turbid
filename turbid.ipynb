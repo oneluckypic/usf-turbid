{
 "cells": [
  {
   "cell_type": "code",
   "execution_count": null,
   "id": "d052f82e-5a71-4865-b9e0-08b8c37b0927",
   "metadata": {},
   "outputs": [],
   "source": [
    "import matplotlib\n",
    "from matplotlib import pyplot as plt\n",
    "import numpy as np\n",
    "import os\n",
    "import pandas as pd\n",
    "from PIL import Image\n",
    "import rasterio\n",
    "from rasterio.plot import show, show_hist"
   ]
  },
  {
   "cell_type": "code",
   "execution_count": null,
   "id": "bfac34e9-3512-4d3b-887f-0dd13612836c",
   "metadata": {},
   "outputs": [],
   "source": [
    "base_dir = '/home/daric/dev/data/nigeria/geotiffs/'\n",
    "mul_dir = 'multi_spectral'\n",
    "#img_file = '19MAY27102816-{}2AS-014909258010_01_P001.TIF' # Invalid\n",
    "#img_file = '19MAY27102817-{}2AS-014909262010_01_P001.TIF' # Invalid\n",
    "#img_file = '20FEB22101135-{}2AS-014909251010_01_P001.TIF' # Valid\n",
    "#img_file = '21FEB25101358-{}2AS-014909264010_01_P001.TIF' # Invalid\n",
    "#img_file = '21NOV03101658-{}2AS-014909259010_01_P001.TIF' # Invalid\n",
    "img_file = '21DEC30101738-{}2AS-014909260010_01_P001.TIF' # Valid\n",
    "#img_file = '22JAN22102131-{}2AS-014909261010_01_P001.TIF' # Valid\n",
    "mul_file = img_file.format('M')\n",
    "img_path = os.path.join(base_dir, mul_dir, mul_file)\n",
    "img = rasterio.open(img_path)\n",
    "figsize = (12, 12)\n",
    "fontsize = 25"
   ]
  },
  {
   "cell_type": "code",
   "execution_count": null,
   "id": "fd4c1397-4067-4850-a71d-3dfe3f73c9eb",
   "metadata": {},
   "outputs": [],
   "source": [
    "blue_band = img.read(2)\n",
    "green_band = img.read(3)\n",
    "red_band = img.read(4)\n",
    "nir_band = img.read(8)"
   ]
  },
  {
   "cell_type": "code",
   "execution_count": null,
   "id": "a8a85fed-53e1-4349-bd1e-5a57791d014b",
   "metadata": {},
   "outputs": [],
   "source": [
    "rgb_img = np.array([red_band, green_band, blue_band]).transpose(1,2,0)\n",
    "\n",
    "# Plot the RGB image\n",
    "plt.figure(figsize=figsize)\n",
    "plt.title('RGB Image\\n' + mul_file, fontsize=fontsize)\n",
    "show(rgb_img.transpose(2,0,1), transform=img.transform)"
   ]
  },
  {
   "cell_type": "code",
   "execution_count": null,
   "id": "5e55bcd2-7f53-40e9-a415-beea91dc347d",
   "metadata": {},
   "outputs": [],
   "source": [
    "# Normalized Difference Index\n",
    "def compute_ndi(band_a, band_b):\n",
    "    numerator = band_a - band_b\n",
    "    denominator = band_a + band_b\n",
    "    numerator[np.isclose(denominator, np.zeros(denominator.shape))] = 0\n",
    "    denominator[np.isclose(denominator, np.zeros(denominator.shape))] = 1\n",
    "    return numerator / denominator"
   ]
  },
  {
   "cell_type": "code",
   "execution_count": null,
   "id": "392db559-9745-4d27-b77c-c6f17a900f36",
   "metadata": {},
   "outputs": [],
   "source": [
    "# Normalized Difference Water Index (NDWI)\n",
    "ndwi = compute_ndi(green_band, nir_band)\n",
    "water_thresh = 0.3\n",
    "water_mask = np.ma.masked_greater_equal(ndwi, water_thresh)"
   ]
  },
  {
   "cell_type": "code",
   "execution_count": null,
   "id": "4ebf15fa-ea14-4284-a38f-dfaf5eeb45b8",
   "metadata": {},
   "outputs": [],
   "source": [
    "plt.figure(figsize=figsize)\n",
    "plt.title('Find Where the River is in the Image\\nNDWI (Water Index) above ' + str(water_thresh) + ' threshold\\n' + mul_file, fontsize=fontsize)\n",
    "plt.imshow(water_mask, cmap='jet')"
   ]
  },
  {
   "cell_type": "code",
   "execution_count": null,
   "id": "49f3fa97-a7a8-4726-82f5-55e1c2f5a55f",
   "metadata": {},
   "outputs": [],
   "source": [
    "# Normalized Difference turbidity Index (NDTI)\n",
    "ndti = compute_ndi(red_band, green_band)\n",
    "turbid_mask = np.ma.masked_array(ndti, mask=water_mask.mask)"
   ]
  },
  {
   "cell_type": "code",
   "execution_count": null,
   "id": "15807598-1843-4c7d-ba21-3967d7c18be5",
   "metadata": {},
   "outputs": [],
   "source": [
    "plt.figure(figsize=figsize)\n",
    "plt.title('Turbidity for Entire River\\nNDTI (Turbidity Index) for River\\n' + mul_file, fontsize=fontsize)\n",
    "plt.imshow(turbid_mask, cmap='jet')"
   ]
  },
  {
   "cell_type": "code",
   "execution_count": null,
   "id": "0490ad81-6c8d-47b9-8bfe-beb04bcbdc5b",
   "metadata": {},
   "outputs": [],
   "source": [
    "quant = 0.9\n",
    "high_turbid_mask = np.ma.masked_less(turbid_mask, np.quantile(turbid_mask, quant))"
   ]
  },
  {
   "cell_type": "code",
   "execution_count": null,
   "id": "9a00cebe-5079-4999-82f1-c92c4e89ad9b",
   "metadata": {},
   "outputs": [],
   "source": [
    "plt.figure(figsize=figsize)\n",
    "plt.title('Show the Most Turbid Areas of the River\\nNDTI (Turbidity Index) above ' + str(int(quant * 100)) + 'th percentile\\n' + mul_file, fontsize=fontsize)\n",
    "plt.imshow(high_turbid_mask, cmap='jet')"
   ]
  },
  {
   "cell_type": "code",
   "execution_count": null,
   "id": "e84c17bd-2426-41b5-b62f-f68054ef50e5",
   "metadata": {},
   "outputs": [],
   "source": [
    "red_mask = np.ma.masked_array(red_band, mask=high_turbid_mask.mask)\n",
    "pd.Series(red_mask[red_mask.mask==False]).describe()"
   ]
  },
  {
   "cell_type": "code",
   "execution_count": null,
   "id": "cd103be3-4938-4280-9db6-f33b29b608c2",
   "metadata": {},
   "outputs": [],
   "source": [
    "green_mask = np.ma.masked_array(green_band, mask=high_turbid_mask.mask)\n",
    "pd.Series(green_mask[green_mask.mask==False]).describe()"
   ]
  },
  {
   "cell_type": "code",
   "execution_count": null,
   "id": "7ffee435-ca3c-410d-916b-0e7c5eea22b9",
   "metadata": {},
   "outputs": [],
   "source": [
    "blue_mask = np.ma.masked_array(blue_band, mask=high_turbid_mask.mask)\n",
    "pd.Series(blue_mask[blue_mask.mask==False]).describe()"
   ]
  },
  {
   "cell_type": "code",
   "execution_count": null,
   "id": "9c5dcee1-4d00-4b17-bb56-c84e67facff0",
   "metadata": {},
   "outputs": [],
   "source": []
  }
 ],
 "metadata": {
  "kernelspec": {
   "display_name": "turbid-kernel",
   "language": "python",
   "name": "turbid-kernel"
  },
  "language_info": {
   "codemirror_mode": {
    "name": "ipython",
    "version": 3
   },
   "file_extension": ".py",
   "mimetype": "text/x-python",
   "name": "python",
   "nbconvert_exporter": "python",
   "pygments_lexer": "ipython3",
   "version": "3.9.12"
  }
 },
 "nbformat": 4,
 "nbformat_minor": 5
}
